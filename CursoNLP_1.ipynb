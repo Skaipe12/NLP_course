{
  "nbformat": 4,
  "nbformat_minor": 0,
  "metadata": {
    "colab": {
      "provenance": []
    },
    "kernelspec": {
      "name": "python3",
      "display_name": "Python 3"
    },
    "language_info": {
      "name": "python"
    }
  },
  "cells": [
    {
      "cell_type": "markdown",
      "source": [
        "Importación de NLTK"
      ],
      "metadata": {
        "id": "QzE3n90-uGki"
      }
    },
    {
      "cell_type": "code",
      "execution_count": null,
      "metadata": {
        "colab": {
          "base_uri": "https://localhost:8080/"
        },
        "id": "Y5hOI4fgt8Mv",
        "outputId": "4a07b7e2-3dbb-4f9a-f28c-08a94fe31b50"
      },
      "outputs": [
        {
          "output_type": "stream",
          "name": "stderr",
          "text": [
            "[nltk_data] Downloading package cess_esp to /root/nltk_data...\n",
            "[nltk_data]   Package cess_esp is already up-to-date!\n"
          ]
        }
      ],
      "source": [
        "import nltk\n",
        "nltk.download('cess_esp') #Se trae textos que ya tiene nltk adentro\n",
        "import re"
      ]
    },
    {
      "cell_type": "code",
      "source": [
        "corpus = nltk.corpus.cess_esp.sents()\n",
        "print(corpus)\n",
        "print(len(corpus))"
      ],
      "metadata": {
        "colab": {
          "base_uri": "https://localhost:8080/"
        },
        "id": "Huls_t8guMYI",
        "outputId": "03ca7201-a7cd-42d4-8ca0-f9fef8ed0cbb"
      },
      "execution_count": null,
      "outputs": [
        {
          "output_type": "stream",
          "name": "stdout",
          "text": [
            "[['El', 'grupo', 'estatal', 'Electricité_de_France', '-Fpa-', 'EDF', '-Fpt-', 'anunció', 'hoy', ',', 'jueves', ',', 'la', 'compra', 'del', '51_por_ciento', 'de', 'la', 'empresa', 'mexicana', 'Electricidad_Águila_de_Altamira', '-Fpa-', 'EAA', '-Fpt-', ',', 'creada', 'por', 'el', 'japonés', 'Mitsubishi_Corporation', 'para', 'poner_en_marcha', 'una', 'central', 'de', 'gas', 'de', '495', 'megavatios', '.'], ['Una', 'portavoz', 'de', 'EDF', 'explicó', 'a', 'EFE', 'que', 'el', 'proyecto', 'para', 'la', 'construcción', 'de', 'Altamira_2', ',', 'al', 'norte', 'de', 'Tampico', ',', 'prevé', 'la', 'utilización', 'de', 'gas', 'natural', 'como', 'combustible', 'principal', 'en', 'una', 'central', 'de', 'ciclo', 'combinado', 'que', 'debe', 'empezar', 'a', 'funcionar', 'en', 'mayo_del_2002', '.'], ...]\n",
            "6030\n"
          ]
        }
      ]
    },
    {
      "cell_type": "code",
      "source": [
        "flatten = [w for l in corpus for w in l]\n",
        "print(len(flatten))\n",
        "print(flatten[:20])"
      ],
      "metadata": {
        "colab": {
          "base_uri": "https://localhost:8080/"
        },
        "id": "CdsPWA6MvWfT",
        "outputId": "32905f4a-00e4-43a3-8ae3-4f22dc120545"
      },
      "execution_count": null,
      "outputs": [
        {
          "output_type": "stream",
          "name": "stdout",
          "text": [
            "192686\n",
            "['El', 'grupo', 'estatal', 'Electricité_de_France', '-Fpa-', 'EDF', '-Fpt-', 'anunció', 'hoy', ',', 'jueves', ',', 'la', 'compra', 'del', '51_por_ciento', 'de', 'la', 'empresa', 'mexicana']\n"
          ]
        }
      ]
    },
    {
      "cell_type": "markdown",
      "source": [
        "Implementación de búsqueda de palabras con expresiones regulares\n"
      ],
      "metadata": {
        "id": "MsS0UYAGwyN5"
      }
    },
    {
      "cell_type": "code",
      "source": [
        "arr = [w for w in flatten if re.search('es', w)]"
      ],
      "metadata": {
        "id": "q8KIeh6Ww3KY"
      },
      "execution_count": null,
      "outputs": []
    },
    {
      "cell_type": "code",
      "source": [
        "print(arr[:5])"
      ],
      "metadata": {
        "colab": {
          "base_uri": "https://localhost:8080/"
        },
        "id": "xbPIdBOJxBrR",
        "outputId": "9ea9d836-27f4-4605-8395-665b6a4637e1"
      },
      "execution_count": null,
      "outputs": [
        {
          "output_type": "stream",
          "name": "stdout",
          "text": [
            "['estatal', 'jueves', 'empresa', 'centrales', 'francesa']\n"
          ]
        }
      ]
    },
    {
      "cell_type": "markdown",
      "source": [
        "Con más expresiones regulares"
      ],
      "metadata": {
        "id": "dmEhU-r_xUYN"
      }
    },
    {
      "cell_type": "code",
      "source": [
        "arr = [w for w in flatten if re.search('es$', w)] #El \"es\" tiene que estar ahora al final\n",
        "print(arr[:5])\n",
        "#arr = [w for w in flatten if re.search('^es', w)] #El \"es\" tiene que estar ahora al principio"
      ],
      "metadata": {
        "colab": {
          "base_uri": "https://localhost:8080/"
        },
        "id": "Wl-rVngZxHKW",
        "outputId": "02a2b452-ff66-453a-d268-ce4469d31310"
      },
      "execution_count": null,
      "outputs": [
        {
          "output_type": "stream",
          "name": "stdout",
          "text": [
            "['jueves', 'centrales', 'millones', 'millones', 'dólares']\n"
          ]
        }
      ]
    },
    {
      "cell_type": "code",
      "source": [
        "# Rango [ghi]\n",
        "arr = [w for w in flatten if re.search('^[ghi]', w)] #Se busca todas las palabras que empiecen por g, h, i.\n",
        "print(arr[:10])"
      ],
      "metadata": {
        "colab": {
          "base_uri": "https://localhost:8080/"
        },
        "id": "qwUMA-qyxt4c",
        "outputId": "649d5452-66bf-4477-feab-c3dd0a98c960"
      },
      "execution_count": null,
      "outputs": [
        {
          "output_type": "stream",
          "name": "stdout",
          "text": [
            "['grupo', 'hoy', 'gas', 'gas', 'intervendrá', 'invertir', 'gas', 'hoy', 'insulto', 'intervención']\n"
          ]
        }
      ]
    },
    {
      "cell_type": "code",
      "source": [
        "arr = [w for w in flatten if re.search('[a-i]', w)] #todas las palabras de la a hasta i\n",
        "print(arr[:10])"
      ],
      "metadata": {
        "colab": {
          "base_uri": "https://localhost:8080/"
        },
        "id": "QbgG-jtYyUDG",
        "outputId": "5446f21a-bd28-472b-972f-69d8f44522c4"
      },
      "execution_count": null,
      "outputs": [
        {
          "output_type": "stream",
          "name": "stdout",
          "text": [
            "['grupo', 'estatal', 'Electricité_de_France', '-Fpa-', 'anunció', 'hoy', 'jueves', 'la', 'compra', 'del']\n"
          ]
        }
      ]
    },
    {
      "cell_type": "markdown",
      "source": [
        "Clausuras\n"
      ],
      "metadata": {
        "id": "KJmRnoZJyrON"
      }
    },
    {
      "cell_type": "code",
      "source": [
        "# * repetir 0 o más veces\n",
        "# + repetir 1 o más veces"
      ],
      "metadata": {
        "id": "5Vva_mRiytQx"
      },
      "execution_count": null,
      "outputs": []
    },
    {
      "cell_type": "code",
      "source": [
        "arr = [w for w in flatten if re.search('^(no)+', w)]\n",
        "print(arr[:20])"
      ],
      "metadata": {
        "colab": {
          "base_uri": "https://localhost:8080/"
        },
        "id": "8377Jgyqy0WL",
        "outputId": "b9108da9-350b-4841-9c4e-f9d8c5352477"
      },
      "execution_count": null,
      "outputs": [
        {
          "output_type": "stream",
          "name": "stdout",
          "text": [
            "['norte', 'no', 'no', 'noche', 'no', 'no', 'notificación', 'no', 'no', 'no', 'no_obstante', 'no', 'no', 'no', 'norte', 'no', 'no', 'no', 'no', 'norteamericano']\n"
          ]
        }
      ]
    },
    {
      "cell_type": "code",
      "source": [
        "arr = [w for w in flatten if re.search('^(no)*', w)]\n",
        "print(arr[:20])"
      ],
      "metadata": {
        "colab": {
          "base_uri": "https://localhost:8080/"
        },
        "id": "_LR3dfK4zP2F",
        "outputId": "d26dc278-7ca2-4151-d7e7-202a0947f23d"
      },
      "execution_count": null,
      "outputs": [
        {
          "output_type": "stream",
          "name": "stdout",
          "text": [
            "['El', 'grupo', 'estatal', 'Electricité_de_France', '-Fpa-', 'EDF', '-Fpt-', 'anunció', 'hoy', ',', 'jueves', ',', 'la', 'compra', 'del', '51_por_ciento', 'de', 'la', 'empresa', 'mexicana']\n"
          ]
        }
      ]
    },
    {
      "cell_type": "markdown",
      "source": [
        "## Normalización de texto"
      ],
      "metadata": {
        "id": "ZScQiatZ3pt4"
      }
    },
    {
      "cell_type": "code",
      "source": [
        "texto = \"\"\" Cuando sea el rey del mundo  (imaginaba él en su cabeza) no tendré que  preocuparme por estas bobadas.\n",
        "            Era solo un niño de 7 años, pero pensaba que podría ser cualquier cosa que su imaginación le permitiera visualizar en su cabeza ...\"\"\"\n",
        "print(texto)"
      ],
      "metadata": {
        "id": "rAm9flEK3wEL"
      },
      "execution_count": null,
      "outputs": []
    },
    {
      "cell_type": "code",
      "source": [
        "# Caso 1: tokenizacion más simple: por espacios vacios\n",
        "print(re.split(r' ', texto))"
      ],
      "metadata": {
        "id": "KqF1Ecrd6rqM"
      },
      "execution_count": null,
      "outputs": []
    },
    {
      "cell_type": "code",
      "source": [
        "# Caso 2: tokenización usando expresiones regulares\n",
        "print(re.split(r'[ \\t\\n]+', texto))"
      ],
      "metadata": {
        "id": "7dgewSLV6un4"
      },
      "execution_count": null,
      "outputs": []
    },
    {
      "cell_type": "code",
      "source": [
        "# RegEx reference: \\W -> all characters other than letters, digits or underscore - Este es caso 2 pero con esteroides\n",
        "print(re.split(r'[ \\W\\t\\n]+', texto))"
      ],
      "metadata": {
        "id": "YUlaCy_n6wvZ"
      },
      "execution_count": null,
      "outputs": []
    },
    {
      "cell_type": "markdown",
      "source": [
        "## Tokenizador de NLTK"
      ],
      "metadata": {
        "id": "yL7WEsUK65qz"
      }
    },
    {
      "cell_type": "code",
      "source": [
        "#Si pusieramos el regex anterior, no se tokenizaría bien por caracteres como \".\" o \"...\" o \"$\":\n",
        "texto = 'En los E.U. esa postal vale $15.50 ...'\n",
        "print(re.split(r'[ \\W\\t\\n]+', texto))"
      ],
      "metadata": {
        "colab": {
          "base_uri": "https://localhost:8080/"
        },
        "id": "KNU_r4nk63r1",
        "outputId": "b12428d1-2d87-4445-8ce4-e99d18be1718"
      },
      "execution_count": null,
      "outputs": [
        {
          "output_type": "stream",
          "name": "stdout",
          "text": [
            "['En', 'los', 'E', 'U', 'esa', 'postal', 'vale', '15', '50', '']\n"
          ]
        }
      ]
    },
    {
      "cell_type": "markdown",
      "source": [
        "Para esos casos, podemos utilizar el tokenizador que trae NLTK, en donde podemos ajustar una expresión regular muy sofisticada a un texto de la siguiente forma:"
      ],
      "metadata": {
        "id": "1bx51W7l7WSY"
      }
    },
    {
      "cell_type": "code",
      "source": [
        "pattern = r'''(?x)                 # set flag to allow verbose regexps\n",
        "              (?:[A-Z]\\.)+         # abbreviations, e.g. U.S.A.\n",
        "              | \\w+(?:-\\w+)*       # words with optional internal hyphens\n",
        "              | \\$?\\d+(?:\\.\\d+)?%? # currency and percentages, e.g. $12.40, 82%\n",
        "              | \\.\\.\\.             # ellipsis\n",
        "              | [][.,;\"'?():-_`]   # these are separate tokens; includes ], [\n",
        "'''\n",
        "nltk.regexp_tokenize(texto, pattern)"
      ],
      "metadata": {
        "colab": {
          "base_uri": "https://localhost:8080/"
        },
        "id": "McXKA9eL7V7h",
        "outputId": "4d7bad08-c8da-498f-8456-c2aaa6dfc84f"
      },
      "execution_count": null,
      "outputs": [
        {
          "output_type": "execute_result",
          "data": {
            "text/plain": [
              "['En', 'los', 'E.U.', 'esa', 'postal', 'vale', '$15.50', '...']"
            ]
          },
          "metadata": {},
          "execution_count": 19
        }
      ]
    },
    {
      "cell_type": "markdown",
      "source": [
        "## Estadistica del Lenguaje"
      ],
      "metadata": {
        "id": "LkcTXY5yUbNw"
      }
    },
    {
      "cell_type": "code",
      "source": [
        "import nltk\n",
        "nltk.download('book')\n",
        "from nltk.book import *\n",
        "import matplotlib.pyplot as plt\n",
        "import numpy as np"
      ],
      "metadata": {
        "colab": {
          "base_uri": "https://localhost:8080/"
        },
        "id": "OXJOMLnGUwm-",
        "outputId": "fdcf7b7b-8d16-4c1d-acfb-0fdc7d2b18a4"
      },
      "execution_count": null,
      "outputs": [
        {
          "output_type": "stream",
          "name": "stderr",
          "text": [
            "[nltk_data] Downloading collection 'book'\n",
            "[nltk_data]    | \n",
            "[nltk_data]    | Downloading package abc to /root/nltk_data...\n",
            "[nltk_data]    |   Unzipping corpora/abc.zip.\n",
            "[nltk_data]    | Downloading package brown to /root/nltk_data...\n",
            "[nltk_data]    |   Unzipping corpora/brown.zip.\n",
            "[nltk_data]    | Downloading package chat80 to /root/nltk_data...\n",
            "[nltk_data]    |   Unzipping corpora/chat80.zip.\n",
            "[nltk_data]    | Downloading package cmudict to /root/nltk_data...\n",
            "[nltk_data]    |   Unzipping corpora/cmudict.zip.\n",
            "[nltk_data]    | Downloading package conll2000 to /root/nltk_data...\n",
            "[nltk_data]    |   Unzipping corpora/conll2000.zip.\n",
            "[nltk_data]    | Downloading package conll2002 to /root/nltk_data...\n",
            "[nltk_data]    |   Unzipping corpora/conll2002.zip.\n",
            "[nltk_data]    | Downloading package dependency_treebank to\n",
            "[nltk_data]    |     /root/nltk_data...\n",
            "[nltk_data]    |   Unzipping corpora/dependency_treebank.zip.\n",
            "[nltk_data]    | Downloading package genesis to /root/nltk_data...\n",
            "[nltk_data]    |   Unzipping corpora/genesis.zip.\n",
            "[nltk_data]    | Downloading package gutenberg to /root/nltk_data...\n",
            "[nltk_data]    |   Unzipping corpora/gutenberg.zip.\n",
            "[nltk_data]    | Downloading package ieer to /root/nltk_data...\n",
            "[nltk_data]    |   Unzipping corpora/ieer.zip.\n",
            "[nltk_data]    | Downloading package inaugural to /root/nltk_data...\n",
            "[nltk_data]    |   Unzipping corpora/inaugural.zip.\n",
            "[nltk_data]    | Downloading package movie_reviews to\n",
            "[nltk_data]    |     /root/nltk_data...\n",
            "[nltk_data]    |   Unzipping corpora/movie_reviews.zip.\n",
            "[nltk_data]    | Downloading package nps_chat to /root/nltk_data...\n",
            "[nltk_data]    |   Unzipping corpora/nps_chat.zip.\n",
            "[nltk_data]    | Downloading package names to /root/nltk_data...\n",
            "[nltk_data]    |   Unzipping corpora/names.zip.\n",
            "[nltk_data]    | Downloading package ppattach to /root/nltk_data...\n",
            "[nltk_data]    |   Unzipping corpora/ppattach.zip.\n",
            "[nltk_data]    | Downloading package reuters to /root/nltk_data...\n",
            "[nltk_data]    | Downloading package senseval to /root/nltk_data...\n",
            "[nltk_data]    |   Unzipping corpora/senseval.zip.\n",
            "[nltk_data]    | Downloading package state_union to /root/nltk_data...\n",
            "[nltk_data]    |   Unzipping corpora/state_union.zip.\n",
            "[nltk_data]    | Downloading package stopwords to /root/nltk_data...\n",
            "[nltk_data]    |   Unzipping corpora/stopwords.zip.\n",
            "[nltk_data]    | Downloading package swadesh to /root/nltk_data...\n",
            "[nltk_data]    |   Unzipping corpora/swadesh.zip.\n",
            "[nltk_data]    | Downloading package timit to /root/nltk_data...\n",
            "[nltk_data]    |   Unzipping corpora/timit.zip.\n",
            "[nltk_data]    | Downloading package treebank to /root/nltk_data...\n",
            "[nltk_data]    |   Unzipping corpora/treebank.zip.\n",
            "[nltk_data]    | Downloading package toolbox to /root/nltk_data...\n",
            "[nltk_data]    |   Unzipping corpora/toolbox.zip.\n",
            "[nltk_data]    | Downloading package udhr to /root/nltk_data...\n",
            "[nltk_data]    |   Unzipping corpora/udhr.zip.\n",
            "[nltk_data]    | Downloading package udhr2 to /root/nltk_data...\n",
            "[nltk_data]    |   Unzipping corpora/udhr2.zip.\n",
            "[nltk_data]    | Downloading package unicode_samples to\n",
            "[nltk_data]    |     /root/nltk_data...\n",
            "[nltk_data]    |   Unzipping corpora/unicode_samples.zip.\n",
            "[nltk_data]    | Downloading package webtext to /root/nltk_data...\n",
            "[nltk_data]    |   Unzipping corpora/webtext.zip.\n",
            "[nltk_data]    | Downloading package wordnet to /root/nltk_data...\n",
            "[nltk_data]    | Downloading package wordnet_ic to /root/nltk_data...\n",
            "[nltk_data]    |   Unzipping corpora/wordnet_ic.zip.\n",
            "[nltk_data]    | Downloading package words to /root/nltk_data...\n",
            "[nltk_data]    |   Unzipping corpora/words.zip.\n",
            "[nltk_data]    | Downloading package maxent_treebank_pos_tagger to\n",
            "[nltk_data]    |     /root/nltk_data...\n",
            "[nltk_data]    |   Unzipping taggers/maxent_treebank_pos_tagger.zip.\n",
            "[nltk_data]    | Downloading package maxent_ne_chunker to\n",
            "[nltk_data]    |     /root/nltk_data...\n",
            "[nltk_data]    |   Unzipping chunkers/maxent_ne_chunker.zip.\n",
            "[nltk_data]    | Downloading package universal_tagset to\n",
            "[nltk_data]    |     /root/nltk_data...\n",
            "[nltk_data]    |   Unzipping taggers/universal_tagset.zip.\n",
            "[nltk_data]    | Downloading package punkt to /root/nltk_data...\n",
            "[nltk_data]    |   Unzipping tokenizers/punkt.zip.\n",
            "[nltk_data]    | Downloading package book_grammars to\n",
            "[nltk_data]    |     /root/nltk_data...\n",
            "[nltk_data]    |   Unzipping grammars/book_grammars.zip.\n",
            "[nltk_data]    | Downloading package city_database to\n",
            "[nltk_data]    |     /root/nltk_data...\n",
            "[nltk_data]    |   Unzipping corpora/city_database.zip.\n",
            "[nltk_data]    | Downloading package tagsets to /root/nltk_data...\n",
            "[nltk_data]    |   Unzipping help/tagsets.zip.\n",
            "[nltk_data]    | Downloading package panlex_swadesh to\n",
            "[nltk_data]    |     /root/nltk_data...\n",
            "[nltk_data]    | Downloading package averaged_perceptron_tagger to\n",
            "[nltk_data]    |     /root/nltk_data...\n",
            "[nltk_data]    |   Unzipping taggers/averaged_perceptron_tagger.zip.\n",
            "[nltk_data]    | \n",
            "[nltk_data]  Done downloading collection book\n"
          ]
        },
        {
          "output_type": "stream",
          "name": "stdout",
          "text": [
            "*** Introductory Examples for the NLTK Book ***\n",
            "Loading text1, ..., text9 and sent1, ..., sent9\n",
            "Type the name of the text or sentence to view it.\n",
            "Type: 'texts()' or 'sents()' to list the materials.\n",
            "text1: Moby Dick by Herman Melville 1851\n",
            "text2: Sense and Sensibility by Jane Austen 1811\n",
            "text3: The Book of Genesis\n",
            "text4: Inaugural Address Corpus\n",
            "text5: Chat Corpus\n",
            "text6: Monty Python and the Holy Grail\n",
            "text7: Wall Street Journal\n",
            "text8: Personals Corpus\n",
            "text9: The Man Who Was Thursday by G . K . Chesterton 1908\n"
          ]
        }
      ]
    },
    {
      "cell_type": "code",
      "source": [
        "# escogemos text1 que es el famoso libro Moby Dick\n",
        "text1"
      ],
      "metadata": {
        "colab": {
          "base_uri": "https://localhost:8080/"
        },
        "id": "-GJIBmz0U83b",
        "outputId": "e78d7127-edaf-476c-e3f1-0a146efbebbf"
      },
      "execution_count": null,
      "outputs": [
        {
          "output_type": "execute_result",
          "data": {
            "text/plain": [
              "<Text: Moby Dick by Herman Melville 1851>"
            ]
          },
          "metadata": {},
          "execution_count": 3
        }
      ]
    },
    {
      "cell_type": "code",
      "source": [
        "# METODO NO recomendable para conjuntos muy grandes\n",
        "dic = {}\n",
        "for palabra in set(text1):\n",
        "  #dic[palabra] = porcentaje_palabra(palabra, text1)\n",
        "  dic[palabra] = text1.count(palabra)\n",
        "dic"
      ],
      "metadata": {
        "id": "hYpeuoRBUeed"
      },
      "execution_count": null,
      "outputs": []
    },
    {
      "cell_type": "markdown",
      "source": [
        "## Método FreqDist de NLTK"
      ],
      "metadata": {
        "id": "FSN2PmwQUjIw"
      }
    },
    {
      "cell_type": "code",
      "source": [
        "# NLTK tiene un metodo muy eficiente\n",
        "fdist = FreqDist(text1)"
      ],
      "metadata": {
        "id": "p82Fq314UgM7"
      },
      "execution_count": null,
      "outputs": []
    },
    {
      "cell_type": "code",
      "source": [
        "fdist.most_common(20)"
      ],
      "metadata": {
        "colab": {
          "base_uri": "https://localhost:8080/"
        },
        "id": "9bSCjyMYUnxH",
        "outputId": "6efdb1c5-2085-4f95-ceee-b7e60771cceb"
      },
      "execution_count": null,
      "outputs": [
        {
          "output_type": "execute_result",
          "data": {
            "text/plain": [
              "[(',', 18713),\n",
              " ('the', 13721),\n",
              " ('.', 6862),\n",
              " ('of', 6536),\n",
              " ('and', 6024),\n",
              " ('a', 4569),\n",
              " ('to', 4542),\n",
              " (';', 4072),\n",
              " ('in', 3916),\n",
              " ('that', 2982),\n",
              " (\"'\", 2684),\n",
              " ('-', 2552),\n",
              " ('his', 2459),\n",
              " ('it', 2209),\n",
              " ('I', 2124),\n",
              " ('s', 1739),\n",
              " ('is', 1695),\n",
              " ('he', 1661),\n",
              " ('with', 1659),\n",
              " ('was', 1632)]"
            ]
          },
          "metadata": {},
          "execution_count": 5
        }
      ]
    },
    {
      "cell_type": "markdown",
      "source": [
        "Distribución de frecuencia de aparición de palabras en el texto de moby dick"
      ],
      "metadata": {
        "id": "G7moULgXVLnV"
      }
    },
    {
      "cell_type": "code",
      "source": [
        "fdist.plot(20)"
      ],
      "metadata": {
        "colab": {
          "base_uri": "https://localhost:8080/",
          "height": 482
        },
        "id": "CVy8WIAkVI2L",
        "outputId": "5b7d228e-ccb1-4866-a7d7-d676d305becf"
      },
      "execution_count": null,
      "outputs": [
        {
          "output_type": "display_data",
          "data": {
            "text/plain": [
              "<Figure size 640x480 with 1 Axes>"
            ],
            "image/png": "[encoded data removed]"
          },
          "metadata": {}
        },
        {
          "output_type": "execute_result",
          "data": {
            "text/plain": [
              "<Axes: xlabel='Samples', ylabel='Counts'>"
            ]
          },
          "metadata": {},
          "execution_count": 6
        }
      ]
    },
    {
      "cell_type": "code",
      "source": [
        "fdist['monster']"
      ],
      "metadata": {
        "colab": {
          "base_uri": "https://localhost:8080/"
        },
        "id": "a0hWUqeLVQYC",
        "outputId": "2b14478d-dc24-4183-f777-be6304123321"
      },
      "execution_count": null,
      "outputs": [
        {
          "output_type": "execute_result",
          "data": {
            "text/plain": [
              "49"
            ]
          },
          "metadata": {},
          "execution_count": 7
        }
      ]
    },
    {
      "cell_type": "markdown",
      "source": [
        "## Distribuciones sobre contenido con filtro-fino"
      ],
      "metadata": {
        "id": "WhjLQ6TgVkfp"
      }
    },
    {
      "cell_type": "markdown",
      "source": [
        "* los tokens más frecuentes en un texto no son necesariamente las palabras que más información nos arrojan sobre el contenido del mismo"
      ],
      "metadata": {
        "id": "ZBlc4pjAVoqn"
      }
    },
    {
      "cell_type": "markdown",
      "source": [
        "* Por ello, es mejor filtrar y contruir distribuciones de frecuencia que no consideren signos de puntuación o caracteres especiales"
      ],
      "metadata": {
        "id": "zeYLu9P2Vw7b"
      }
    },
    {
      "cell_type": "code",
      "source": [
        "from nltk.corpus import stopwords\n",
        "\n",
        "long_words = [palabra for palabra in text1 if len(palabra)>5]\n",
        "vocabulario_filtrado = sorted(set(long_words))\n",
        "vocabulario_filtrado[:10]"
      ],
      "metadata": {
        "colab": {
          "base_uri": "https://localhost:8080/"
        },
        "id": "9nnsoFDOVZZ8",
        "outputId": "69b54b57-790a-48e2-9966-7f33787cbb3c"
      },
      "execution_count": null,
      "outputs": [
        {
          "output_type": "execute_result",
          "data": {
            "text/plain": [
              "['ACCOUNT',\n",
              " 'ADDITIONAL',\n",
              " 'ADVANCING',\n",
              " 'ADVENTURES',\n",
              " 'AFFGHANISTAN',\n",
              " 'AFRICA',\n",
              " 'AGAINST',\n",
              " 'ALFRED',\n",
              " 'ALGERINE',\n",
              " 'AMERICA']"
            ]
          },
          "metadata": {},
          "execution_count": 9
        }
      ]
    },
    {
      "cell_type": "code",
      "source": [
        "palabras_interesantes = [(palabra, fdist[palabra]) for palabra in set(text1) if len(palabra)>5 and fdist[palabra]>10]\n",
        "dtypes = [('word', 'S10'), ('frecuencia', int)]\n",
        "palabras_interesantes = np.array(palabras_interesantes, dtype=dtypes)\n",
        "palabras_interesantes"
      ],
      "metadata": {
        "colab": {
          "base_uri": "https://localhost:8080/"
        },
        "id": "GHgFSOk9V3SY",
        "outputId": "89bf5ce4-3456-4dc8-cbf5-5d74a860ab76"
      },
      "execution_count": null,
      "outputs": [
        {
          "output_type": "execute_result",
          "data": {
            "text/plain": [
              "array([(b'steady',  25), (b'hunted',  19), (b'chains',  18),\n",
              "       (b'inside',  18), (b'singing',  11), (b'peculiar',  56),\n",
              "       (b'hammer',  30), (b'fearful',  12), (b'account',  32),\n",
              "       (b'through', 227), (b'behind',  50), (b'mother',  17),\n",
              "       (b'darkness',  31), (b'affair',  17), (b'Fleece',  11),\n",
              "       (b'spouts',  16), (b'events',  15), (b'ambergris',  12),\n",
              "       (b'places',  20), (b'prairie',  11), (b'follow',  18),\n",
              "       (b'forecastle',  34), (b'butter',  11), (b'swiftly',  19),\n",
              "       (b'Nantuckete',  22), (b'devils',  16), (b'certain',  87),\n",
              "       (b'hearts',  29), (b'flames',  15), (b'several',  46),\n",
              "       (b'shadows',  15), (b'figure',  19), (b'strangely',  29),\n",
              "       (b'strength',  23), (b'higher',  23), (b'closely',  14),\n",
              "       (b'taking',  50), (b'circle',  24), (b'working',  15),\n",
              "       (b'desperate',  12), (b'between', 117), (b'features',  11),\n",
              "       (b'gunwale',  21), (b'spiritual',  11), (b'American',  34),\n",
              "       (b'greater',  13), (b'descried',  22), (b'calmly',  13),\n",
              "       (b'perceived',  14), (b'English',  46), (b'dignity',  19),\n",
              "       (b'terrible',  21), (b'remarkable',  13), (b'unknown',  36),\n",
              "       (b'missing',  16), (b'Radney',  22), (b'troubled',  15),\n",
              "       (b'direction',  15), (b'subsequent',  13), (b'continuall',  17),\n",
              "       (b'encounter',  16), (b'phantom',  14), (b'people',  42),\n",
              "       (b'whalemen',  71), (b'against', 132), (b'return',  13),\n",
              "       (b'vocation',  11), (b'battle',  29), (b'turning',  52),\n",
              "       (b'seeing',  28), (b'almost', 186), (b'vessel',  54),\n",
              "       (b'sounding',  13), (b'distance',  39), (b'continued',  14),\n",
              "       (b'smaller',  11), (b'sounds',  12), (b'better',  60),\n",
              "       (b'hidden',  23), (b'mystic',  17), (b'pulpit',  15),\n",
              "       (b'exceeding',  12), (b'careful',  16), (b'fishermen',  28),\n",
              "       (b'nameless',  18), (b'needles',  11), (b'putting',  16),\n",
              "       (b'keeping',  12), (b'spoken',  13), (b'sights',  12),\n",
              "       (b'chapter',  23), (b'either',  39), (b'planks',  31),\n",
              "       (b'mostly',  11), (b'hanging',  19), (b'monomaniac',  11),\n",
              "       (b'somehow',  43), (b'grounds',  12), (b'frantic',  15),\n",
              "       (b'chased',  14), (b'offered',  12), (b'fastened',  11),\n",
              "       (b'lovely',  11), (b'ashore',  33), (b'aboard',  20),\n",
              "       (b'broken',  50), (b'worship',  11), (b'straight',  46),\n",
              "       (b'lesson',  12), (b'settled',  12), (b'sweeping',  12),\n",
              "       (b'perpendicu',  11), (b'heaved',  12), (b'pointing',  19),\n",
              "       (b'generally',  30), (b'numerous',  16), (b'fingers',  14),\n",
              "       (b'instances',  30), (b'Though',  49), (b'plenty',  16),\n",
              "       (b'receiving',  11), (b'holding',  34), (b'billows',  20),\n",
              "       (b'appearance',  11), (b'windlass',  21), (b'oarsmen',  17),\n",
              "       (b'mighty',  47), (b'loaded',  12), (b'fitted',  12),\n",
              "       (b'gentleman',  20), (b'written',  11), (b'seated',  26),\n",
              "       (b'reference',  11), (b'setting',  11), (b'elevated',  11),\n",
              "       (b'frequently',  14), (b'clouds',  12), (b'answered',  22),\n",
              "       (b'Starbuck', 196), (b'centuries',  12), (b'downwards',  12),\n",
              "       (b'pocket',  12), (b'hollow',  20), (b'sunrise',  11),\n",
              "       (b'freely',  11), (b'Tashtego',  54), (b'baleen',  11),\n",
              "       (b'myself',  68), (b'unearthly',  12), (b'something', 119),\n",
              "       (b'really',  30), (b'Leviathan',  64), (b'neither',  16),\n",
              "       (b'raised',  20), (b'sometimes',  81), (b'afterwards',  24),\n",
              "       (b'pursuit',  24), (b'prolonged',  11), (b'virtue',  16),\n",
              "       (b'elsewhere',  11), (b'secured',  15), (b'seemed', 283),\n",
              "       (b'starboard',  16), (b'colour',  16), (b'whereas',  14),\n",
              "       (b'business',  67), (b'gliding',  13), (b'number',  25),\n",
              "       (b'nations',  12), (b'believe',  25), (b'silence',  17),\n",
              "       (b'precious',  18), (b'perils',  24), (b'reaching',  12),\n",
              "       (b'honour',  23), (b'beheld',  21), (b'spouting',  11),\n",
              "       (b'circumstan',  26), (b'Nantucket',  85), (b'unaccounta',  16),\n",
              "       (b'latitudes',  15), (b'cruising',  25), (b'looked',  64),\n",
              "       (b'become',  28), (b'somewhat',  27), (b'capture',  14),\n",
              "       (b'lengthwise',  11), (b'thereby',  15), (b'monkey',  15),\n",
              "       (b'conceit',  13), (b'bottom',  52), (b'double',  16),\n",
              "       (b'whalers',  19), (b'remain',  23), (b'peculiarit',  11),\n",
              "       (b'precise',  19), (b'mounted',  13), (b'resolved',  13),\n",
              "       (b'instant',  77), (b'infallibly',  11), (b'belong',  11),\n",
              "       (b'compass',  17), (b'unseen',  14), (b'finger',  13),\n",
              "       (b'moments',  12), (b'entered',  14), (b'except',  31),\n",
              "       (b'having',  62), (b'passing',  21), (b'London',  13),\n",
              "       (b'latitude',  13), (b'swinging',  13), (b'golden',  18),\n",
              "       (b'shadow',  15), (b'difference',  18), (b'season',  13),\n",
              "       (b'belonged',  13), (b'living',  73), (b'course',  41),\n",
              "       (b'likewise',  17), (b'Elijah',  15), (b'locked',  16),\n",
              "       (b'matter',  86), (b'thoughts',  34), (b'gallant',  16),\n",
              "       (b'everything',  20), (b'streets',  15), (b'single',  39),\n",
              "       (b'scientific',  16), (b'prophet',  13), (b'mentioned',  18),\n",
              "       (b'terror',  21), (b'twenty',  33), (b'tossing',  12),\n",
              "       (b'himself', 203), (b'beating',  11), (b'binnacle',  16),\n",
              "       (b'superior',  14), (b'drawing',  32), (b'symbol',  11),\n",
              "       (b'profound',  20), (b'evinced',  21), (b'planted',  13),\n",
              "       (b'falling',  12), (b'regularly',  18), (b'attached',  20),\n",
              "       (b'things', 132), (b'glided',  14), (b'clothes',  11),\n",
              "       (b'lighted',  13), (b'trouble',  11), (b'across',  31),\n",
              "       (b'window',  15), (b'visible',  32), (b'caused',  12),\n",
              "       (b'whaling', 116), (b'covered',  11), (b'owners',  19),\n",
              "       (b'leaves',  19), (b'indirectly',  13), (b'sprang',  13),\n",
              "       (b'ladies',  13), (b'beyond',  23), (b'whenever',  14),\n",
              "       (b'dangerous',  13), (b'whaleman',  44), (b'customary',  14),\n",
              "       (b'bulwarks',  36), (b'commanded',  23), (b'feeling',  28),\n",
              "       (b'thousand',  51), (b'replied',  11), (b'present',  80),\n",
              "       (b'strain',  12), (b'learned',  25), (b'fairly',  16),\n",
              "       (b'opening',  14), (b'presented',  19), (b'eyeing',  27),\n",
              "       (b'always',  80), (b'Neverthele',  27), (b'previous',  34),\n",
              "       (b'remains',  24), (b'Therefore',  11), (b'manned',  13),\n",
              "       (b'caught',  44), (b'invisible',  15), (b'gigantic',  20),\n",
              "       (b'smoking',  18), (b'winter',  12), (b'SAILOR',  32),\n",
              "       (b'officer',  15), (b'Greenland',  35), (b'exceedingl',  15),\n",
              "       (b'French',  18), (b'followed',  26), (b'rigging',  33),\n",
              "       (b'struck',  47), (b'Guernsey',  11), (b'canvas',  14),\n",
              "       (b'further',  59), (b'Pequod', 172), (b'objects',  11),\n",
              "       (b'afraid',  15), (b'bright',  24), (b'waters',  69),\n",
              "       (b'madness',  16), (b'tackle',  11), (b'shipmates',  22),\n",
              "       (b'morning',  68), (b'stranded',  12), (b'yourself',  26),\n",
              "       (b'possibly',  29), (b'character',  14), (b'whaler',  16),\n",
              "       (b'proceed',  14), (b'exclaimed',  15), (b'savage',  54),\n",
              "       (b'disappeare',  15), (b'critical',  14), (b'deeper',  19),\n",
              "       (b'hitherto',  16), (b'flukes',  36), (b'pieces',  18),\n",
              "       (b'floated',  18), (b'furnished',  16), (b'Manxman',  12),\n",
              "       (b'especially',  44), (b'forced',  18), (b'somewhere',  23),\n",
              "       (b'fathoms',  13), (b'immediatel',  14), (b'shipmate',  11),\n",
              "       (b'stranger',  48), (b'regular',  24), (b'country',  25),\n",
              "       (b'lances',  23), (b'proper',  32), (b'moment', 105),\n",
              "       (b'doubloon',  17), (b'special',  15), (b'dropped',  27),\n",
              "       (b'whiteness',  26), (b'horses',  11), (b'Ramadan',  11),\n",
              "       (b'fashioned',  11), (b'former',  20), (b'forming',  13),\n",
              "       (b'steward',  16), (b'indeed',  82), (b'direct',  11),\n",
              "       (b'mariner',  16), (b'substance',  31), (b'possible',  30),\n",
              "       (b'entire',  55), (b'motions',  12), (b'famous',  35),\n",
              "       (b'Steelkilt',  40), (b'getting',  26), (b'dinner',  15),\n",
              "       (b'returned',  14), (b'command',  28), (b'yellow',  22),\n",
              "       (b'rapidly',  19), (b'upwards',  19), (b'violent',  15),\n",
              "       (b'heavens',  17), (b'seamen',  43), (b'towards', 107),\n",
              "       (b'little', 247), (b'pointed',  29), (b'Coffin',  14),\n",
              "       (b'ground',  49), (b'central',  11), (b'within',  78),\n",
              "       (b'interest',  18), (b'spring',  28), (b'wholly',  27),\n",
              "       (b'wrinkled',  14), (b'giving',  26), (b'sudden',  42),\n",
              "       (b'sailor',  49), (b'repose',  11), (b'fellow',  53),\n",
              "       (b'CHAPTER', 150), (b'scarce',  12), (b'square',  13),\n",
              "       (b'unless',  29), (b'quarter',  44), (b'suddenly',  45),\n",
              "       (b'future',  14), (b'cannot',  69), (b'swallowed',  13),\n",
              "       (b'England',  20), (b'perilous',  15), (b'whales', 237),\n",
              "       (b'social',  11), (b'Daggoo',  34), (b'gentlemen',  37),\n",
              "       (b'species',  31), (b'vessels',  26), (b'advance',  21),\n",
              "       (b'carries',  16), (b'natural',  31), (b'notice',  11),\n",
              "       (b'external',  12), (b'unusual',  12), (b'example',  18),\n",
              "       (b'element',  11), (b'observed',  18), (b'measure',  15),\n",
              "       (b'stricken',  16), (b'individual',  13), (b'cursed',  11),\n",
              "       (b'leaning',  25), (b'according',  20), (b'extreme',  13),\n",
              "       (b'declared',  14), (b'bowels',  12), (b'friends',  16),\n",
              "       (b'height',  17), (b'thrust',  17), (b'thyself',  24),\n",
              "       (b'picked',  11), (b'readily',  13), (b'stream',  11),\n",
              "       (b'making',  45), (b'rather',  68), (b'German',  15),\n",
              "       (b'darting',  14), (b'headed',  23), (b'around',  36),\n",
              "       (b'Parsee',  28), (b'straits',  11), (b'wonderful',  22),\n",
              "       (b'cutting',  35), (b'Indian',  57), (b'horizontal',  15),\n",
              "       (b'Queequeg', 252), (b'sitting',  21), (b'picture',  18),\n",
              "       (b'actually',  16), (b'carpenter',  39), (b'hearted',  12),\n",
              "       (b'practical',  13), (b'leviathan',  31), (b'windward',  22),\n",
              "       (b'conduct',  12), (b'originally',  16), (b'therefore',  56),\n",
              "       (b'indifferen',  11), (b'considerin',  28), (b'pretty',  28),\n",
              "       (b'considered',  14), (b'points',  14), (b'merchant',  15),\n",
              "       (b'motion',  17), (b'leaping',  14), (b'monster',  49),\n",
              "       (b'object',  39), (b'exactly',  24), (b'filled',  22),\n",
              "       (b'sooner',  13), (b'nearly',  33), (b'voyages',  12),\n",
              "       (b'sought',  18), (b'sailing',  33), (b'paused',  16),\n",
              "       (b'hunter',  16), (b'greatest',  12), (b'invariably',  11),\n",
              "       (b'ourselves',  15), (b'carved',  14), (b'fellows',  11),\n",
              "       (b'surface',  42), (b'service',  11), (b'looking',  68),\n",
              "       (b'interior',  12), (b'bursting',  12), (b'anchor',  21),\n",
              "       (b'breeze',  20), (b'roared',  13), (b'enough',  74),\n",
              "       (b'speaking',  23), (b'blanket',  11), (b'departed',  14),\n",
              "       (b'seaman',  13), (b'temporary',  11), (b'thousands',  16),\n",
              "       (b'continual',  14), (b'gained',  14), (b'reached',  19),\n",
              "       (b'Whether',  15), (b'received',  26), (b'reason',  64),\n",
              "       (b'together',  64), (b'concerning',  38), (b'trying',  17),\n",
              "       (b'strongly',  11), (b'hammock',  33), (b'however',  80),\n",
              "       (b'whatever',  44), (b'alongside',  27), (b'before', 293),\n",
              "       (b'crossed',  13), (b'instead',  23), (b'bearing',  25),\n",
              "       (b'deadly',  22), (b'seized',  18), (b'America',  11),\n",
              "       (b'showed',  16), (b'afloat',  12), (b'ladder',  12),\n",
              "       (b'opinion',  14), (b'reasons',  11), (b'already',  28),\n",
              "       (b'Captain', 215), (b'experience',  11), (b'sinking',  13),\n",
              "       (b'original',  21), (b'solitary',  19), (b'slightly',  13),\n",
              "       (b'harpooneer',  55), (b'desired',  11), (b'watching',  15),\n",
              "       (b'started',  26), (b'resting',  12), (b'noticed',  11),\n",
              "       (b'repeated',  20), (b'mortal',  39), (b'towing',  14),\n",
              "       (b'coiled',  11), (b'particular',  49), (b'modern',  18),\n",
              "       (b'behold',  14), (b'Pacific',  32), (b'months',  17),\n",
              "       (b'touched',  13), (b'Heaven',  11), (b'separate',  20),\n",
              "       (b'strange',  96), (b'swells',  11), (b'bodily',  26),\n",
              "       (b'obvious',  11), (b'considerab',  26), (b'officers',  20),\n",
              "       (b'seldom',  24), (b'island',  27), (b'pushed',  15),\n",
              "       (b'pulling',  22), (b'captains',  19), (b'involuntar',  12),\n",
              "       (b'utterly',  13), (b'marble',  14), (b'forehead',  37),\n",
              "       (b'harpoons',  30), (b'demanded',  11), (b'marked',  18),\n",
              "       (b'dragged',  16), (b'whispered',  11), (b'shipped',  11),\n",
              "       (b'company',  33), (b'trowsers',  13), (b'spirit',  15),\n",
              "       (b'handle',  14), (b'immortal',  14), (b'observe',  11),\n",
              "       (b'lonely',  12), (b'instance',  18), (b'howling',  12),\n",
              "       (b'following',  23), (b'pacing',  11), (b'altogether',  29),\n",
              "       (b'history',  15), (b'wondrous',  41), (b'supposed',  15),\n",
              "       (b'simple',  11), (b'Meanwhile',  16), (b'directly',  20),\n",
              "       (b'arrived',  12), (b'precisely',  27), (b'However',  15),\n",
              "       (b'children',  18), (b'tackles',  17), (b'killed',  33),\n",
              "       (b'quietly',  18), (b'watches',  12), (b'silent',  25),\n",
              "       (b'rolled',  43), (b'steadily',  11), (b'regarded',  23),\n",
              "       (b'wonders',  13), (b'curious',  53), (b'besides',  20),\n",
              "       (b'Derick',  12), (b'lightning',  26), (b'during',  23),\n",
              "       (b'utmost',  15), (b'creature',  42), (b'nature',  34),\n",
              "       (b'prepared',  12), (b'voyage',  93), (b'aspect',  36),\n",
              "       (b'indispensa',  11), (b'others',  37), (b'calling',  12),\n",
              "       (b'nearer',  15), (b'finally',  23), (b'overboard',  27),\n",
              "       (b'strike',  28), (b'nothing', 102), (b'suppose',  35),\n",
              "       (b'merely',  18), (b'wonder',  34), (b'vengeance',  11),\n",
              "       (b'fashion',  11), (b'distant',  21), (b'morrow',  12),\n",
              "       (b'breath',  18), (b'wrinkles',  15), (b'coward',  15),\n",
              "       (b'secret',  24), (b'descend',  12), (b'inches',  20),\n",
              "       (b'helped',  15), (b'Nothing',  13), (b'ancient',  28),\n",
              "       (b'question',  29), (b'cunning',  15), (b'Gabriel',  20),\n",
              "       (b'sideways',  27), (b'manner',  37), (b'occasional',  14),\n",
              "       (b'blackness',  11), (b'upright',  12), (b'Lakeman',  24),\n",
              "       (b'instantly',  17), (b'solemn',  12), (b'anything',  41),\n",
              "       (b'contrast',  12), (b'barrels',  16), (b'Father',  11),\n",
              "       (b'foolish',  16), (b'immense',  15), (b'turned',  66),\n",
              "       (b'whether',  76), (b'Whales',  29), (b'flying',  29),\n",
              "       (b'Fedallah',  27), (b'wicked',  11), (b'excellent',  11),\n",
              "       (b'placed',  36), (b'respect',  16), (b'connected',  12),\n",
              "       (b'additional',  11), (b'mariners',  29), (b'Bedford',  18),\n",
              "       (b'ponderous',  13), (b'perhaps',  82), (b'encountere',  16),\n",
              "       (b'master',  23), (b'lowered',  20), (b'secure',  12),\n",
              "       (b'oceans',  14), (b'passed',  41), (b'mountain',  12),\n",
              "       (b'contact',  11), (b'drowned',  12), (b'crossing',  16),\n",
              "       (b'Because',  19), (b'fifteen',  11), (b'longer',  18),\n",
              "       (b'thinks',  16), (b'concluded',  19), (b'corpse',  14),\n",
              "       (b'squall',  18), (b'Bildad',  76), (b'seeking',  12),\n",
              "       (b'chanced',  13), (b'forget',  11), (b'opposite',  17),\n",
              "       (b'leeward',  28), (b'oarsman',  15), (b'formed',  22),\n",
              "       (b'nailed',  11), (b'called', 116), (b'middle',  35),\n",
              "       (b'stands',  29), (b'advancing',  18), (b'interval',  25),\n",
              "       (b'tossed',  31), (b'marvellous',  15), (b'lively',  13),\n",
              "       (b'harpooneer',  77), (b'elephant',  17), (b'prodigious',  18),\n",
              "       (b'beginning',  19), (b'stroke',  16), (b'becomes',  12),\n",
              "       (b'jacket',  22), (b'heaving',  15), (b'Besides',  30),\n",
              "       (b'rising',  29), (b'lowering',  17), (b'spermaceti',  16),\n",
              "       (b'partly',  13), (b'effect',  15), (b'second',  54),\n",
              "       (b'beholding',  11), (b'pictures',  13), (b'murmured',  12),\n",
              "       (b'common',  48), (b'striking',  23), (b'civilized',  16),\n",
              "       (b'suspended',  27), (b'cannibal',  18), (b'subject',  19),\n",
              "       (b'significan',  11), (b'anywhere',  14), (b'meanwhile',  12),\n",
              "       (b'distinct',  16), (b'slightest',  20), (b'various',  36),\n",
              "       (b'coming',  50), (b'father',  16), (b'terrors',  19),\n",
              "       (b'Ishmael',  19), (b'circles',  13), (b'captain', 112),\n",
              "       (b'purpose',  39), (b'bucket',  15), (b'knowing',  16),\n",
              "       (b'hoisted',  30), (b'blacksmith',  19), (b'theirs',  13),\n",
              "       (b'leading',  11), (b'sailed',  38), (b'valuable',  11),\n",
              "       (b'hundred',  50), (b'advanced',  11), (b'twelve',  16),\n",
              "       (b'barbaric',  11), (b'similar',  25), (b'landed',  12),\n",
              "       (b'naturalist',  11), (b'important',  19), (b'neverthele',  23),\n",
              "       (b'skeleton',  33), (b'impossible',  15), (b'sailors',  50),\n",
              "       (b'midnight',  24), (b'countenanc',  12), (b'firmly',  11),\n",
              "       (b'harpoon',  76), (b'creatures',  34), (b'leaped',  13),\n",
              "       (b'knowledge',  12), (b'nights',  11), (b'please',  12),\n",
              "       (b'proved',  16), (b'leaving',  38), (b'answer',  23),\n",
              "       (b'strong',  34), (b'revealed',  18), (b'vapour',  15),\n",
              "       (b'coffin',  36), (b'fierce',  11), (b'understand',  17),\n",
              "       (b'weight',  17), (b'ordinary',  19), (b'tapering',  12),\n",
              "       (b'completely',  33), (b'themselves',  59), (b'shoulder',  12),\n",
              "       (b'Christian',  18), (b'smells',  11), (b'shoulders',  13),\n",
              "       (b'latter',  14), (b'slowly',  47), (b'thirty',  26),\n",
              "       (b'carried',  30), (b'evening',  18), (b'without', 154),\n",
              "       (b'wanting',  11), (b'contrary',  12), (b'gazing',  22),\n",
              "       (b'heaven',  40), (b'whence',  14), (b'orders',  24),\n",
              "       (b'spread',  24), (b'largest',  19), (b'saying',  40),\n",
              "       (b'lantern',  12), (b'summer',  14), (b'tongue',  11),\n",
              "       (b'begins',  11), (b'seventy',  22), (b'insult',  12),\n",
              "       (b'honest',  14), (b'watery',  24), (b'sleeping',  20),\n",
              "       (b'silently',  14), (b'pulled',  13), (b'malice',  12),\n",
              "       (b'yonder',  16), (b'welded',  11), (b'remained',  34),\n",
              "       (b'should', 181), (b'previously',  17), (b'Atlantic',  19),\n",
              "       (b'scuttle',  22), (b'quickly',  21), (b'lifted',  16),\n",
              "       (b'glancing',  12), (b'boiling',  15), (b'enchanted',  12),\n",
              "       (b'centre',  22), (b'matters',  13), (b'rushing',  17),\n",
              "       (b'uncommon',  16), (b'eating',  12), (b'rushed',  15),\n",
              "       (b'earthly',  16), (b'seizing',  11), (b'meaning',  17),\n",
              "       (b'invested',  21), (b'swimming',  29), (b'hither',  13),\n",
              "       (b'thinking',  25), (b'buried',  14), (b'NANTUCKET',  11),\n",
              "       (b'friend',  25), (b'vicinity',  19), (b'floats',  11),\n",
              "       (b'hoisting',  11), (b'another', 106), (b'ginger',  11),\n",
              "       (b'naturally',  12), (b'captured',  17), (b'general',  65),\n",
              "       (b'quantity',  13), (b'naught',  13), (b'horizon',  18),\n",
              "       (b'telling',  19), (b'chance',  46), (b'presently',  13),\n",
              "       (b'period',  18), (b'hinted',  25), (b'concluding',  11),\n",
              "       (b'thunder',  23), (b'capstan',  12), (b'doubtless',  12),\n",
              "       (b'moving',  13), (b'endless',  15), (b'landlord',  27),\n",
              "       (b'hearse',  11), (b'standing',  73), (b'position',  15),\n",
              "       (b'beneath',  74), (b'entirely',  29), (b'conscience',  12),\n",
              "       (b'became',  24), (b'narrow',  12), (b'hardly',  31),\n",
              "       (b'intervals',  32), (b'eternal',  19), (b'intent',  14),\n",
              "       (b'simultaneo',  14), (b'floating',  24), (b'commander',  16),\n",
              "       (b'leaned',  13), (b'employed',  15), (b'different',  24),\n",
              "       (b'wooden',  26), (b'volume',  13), (b'terrific',  14),\n",
              "       (b'enormous',  26), (b'supper',  25), (b'weather',  35),\n",
              "       (b'itself',  84), (b'certainly',  27), (b'mention',  15),\n",
              "       (b'running',  44), (b'carrying',  15), (b'included',  11),\n",
              "       (b'deemed',  14), (b'consider',  15), (b'corner',  16),\n",
              "       (b'tormented',  14), (b'native',  17), (b'passage',  32),\n",
              "       (b'magnitude',  21), (b'escape',  24), (b'glance',  28),\n",
              "       (b'though', 335), (b'shouted',  17), (b'Bunger',  13),\n",
              "       (b'animal',  16), (b'circumstan',  26), (b'straightwa',  11),\n",
              "       (b'astern',  28), (b'thrown',  25), (b'horror',  12),\n",
              "       (b'inserted',  17), (b'content',  18), (b'because',  73),\n",
              "       (b'dropping',  16), (b'sharks',  50), (b'letter',  12),\n",
              "       (b'family',  12), (b'chiefly',  19), (b'brought',  38),\n",
              "       (b'complete',  25), (b'thought', 149), (b'darted',  38),\n",
              "       (b'private',  13), (b'islands',  12), (b'engaged',  18),\n",
              "       (b'degree',  26), (b'mankind',  13), (b'pleasant',  16),\n",
              "       (b'fishery',  54), (b'helmsman',  11), (b'happens',  12),\n",
              "       (b'minute',  17), (b'convenient',  11), (b'horrible',  14),\n",
              "       (b'dashed',  22), (b'tomahawk',  17), (b'touching',  45),\n",
              "       (b'happened',  16), (b'burning',  12), (b'Perseus',  11),\n",
              "       (b'remember',  15), (b'probably',  14), (b'muttered',  17),\n",
              "       (b'hunters',  28), (b'blessed',  11), (b'Hussey',  16),\n",
              "       (b'silver',  13), (b'painted',  12), (b'forward',  48),\n",
              "       (b'rolling',  35), (b'otherwise',  26), (b'breaking',  16),\n",
              "       (b'commotion',  11), (b'person',  28), (b'length',  78),\n",
              "       (b'Meantime',  19), (b'intense',  18), (b'minutes',  21),\n",
              "       (b'plainly',  39), (b'blubber',  34), (b'hailed',  21),\n",
              "       (b'subtle',  11), (b'breakfast',  13), (b'tiller',  13)],\n",
              "      dtype=[('word', 'S10'), ('frecuencia', '<i8')])"
            ]
          },
          "metadata": {},
          "execution_count": 16
        }
      ]
    },
    {
      "cell_type": "code",
      "source": [
        "palabras_interesantes = np.sort(palabras_interesantes, order='frecuencia')\n",
        "palabras_interesantes"
      ],
      "metadata": {
        "colab": {
          "base_uri": "https://localhost:8080/"
        },
        "id": "jBSPP2A0YXdz",
        "outputId": "2376563b-7073-4380-9395-99623b2aa4cb"
      },
      "execution_count": null,
      "outputs": [
        {
          "output_type": "execute_result",
          "data": {
            "text/plain": [
              "array([(b'America',  11), (b'Father',  11), (b'Fleece',  11),\n",
              "       (b'Guernsey',  11), (b'Heaven',  11), (b'NANTUCKET',  11),\n",
              "       (b'Perseus',  11), (b'Ramadan',  11), (b'Therefore',  11),\n",
              "       (b'additional',  11), (b'advanced',  11), (b'appearance',  11),\n",
              "       (b'baleen',  11), (b'barbaric',  11), (b'beating',  11),\n",
              "       (b'begins',  11), (b'beholding',  11), (b'belong',  11),\n",
              "       (b'blackness',  11), (b'blanket',  11), (b'blessed',  11),\n",
              "       (b'butter',  11), (b'central',  11), (b'clothes',  11),\n",
              "       (b'coiled',  11), (b'commotion',  11), (b'concluding',  11),\n",
              "       (b'contact',  11), (b'convenient',  11), (b'covered',  11),\n",
              "       (b'cursed',  11), (b'demanded',  11), (b'desired',  11),\n",
              "       (b'direct',  11), (b'element',  11), (b'elevated',  11),\n",
              "       (b'elsewhere',  11), (b'excellent',  11), (b'experience',  11),\n",
              "       (b'fashion',  11), (b'fashioned',  11), (b'fastened',  11),\n",
              "       (b'features',  11), (b'fellows',  11), (b'fierce',  11),\n",
              "       (b'fifteen',  11), (b'firmly',  11), (b'floats',  11),\n",
              "       (b'forget',  11), (b'freely',  11), (b'ginger',  11),\n",
              "       (b'hearse',  11), (b'helmsman',  11), (b'hoisting',  11),\n",
              "       (b'horses',  11), (b'included',  11), (b'indifferen',  11),\n",
              "       (b'indispensa',  11), (b'infallibly',  11), (b'invariably',  11),\n",
              "       (b'leading',  11), (b'lengthwise',  11), (b'lovely',  11),\n",
              "       (b'monomaniac',  11), (b'mostly',  11), (b'nailed',  11),\n",
              "       (b'naturalist',  11), (b'needles',  11), (b'nights',  11),\n",
              "       (b'notice',  11), (b'noticed',  11), (b'objects',  11),\n",
              "       (b'observe',  11), (b'obvious',  11), (b'pacing',  11),\n",
              "       (b'peculiarit',  11), (b'perpendicu',  11), (b'picked',  11),\n",
              "       (b'prairie',  11), (b'prolonged',  11), (b'reasons',  11),\n",
              "       (b'receiving',  11), (b'reference',  11), (b'replied',  11),\n",
              "       (b'repose',  11), (b'seizing',  11), (b'service',  11),\n",
              "       (b'setting',  11), (b'shipmate',  11), (b'shipped',  11),\n",
              "       (b'significan',  11), (b'simple',  11), (b'singing',  11),\n",
              "       (b'smaller',  11), (b'smells',  11), (b'social',  11),\n",
              "       (b'spiritual',  11), (b'spouting',  11), (b'steadily',  11),\n",
              "       (b'straightwa',  11), (b'straits',  11), (b'stream',  11),\n",
              "       (b'strongly',  11), (b'subtle',  11), (b'sunrise',  11),\n",
              "       (b'swells',  11), (b'symbol',  11), (b'tackle',  11),\n",
              "       (b'temporary',  11), (b'tongue',  11), (b'trouble',  11),\n",
              "       (b'valuable',  11), (b'vengeance',  11), (b'vocation',  11),\n",
              "       (b'wanting',  11), (b'welded',  11), (b'whispered',  11),\n",
              "       (b'wicked',  11), (b'worship',  11), (b'written',  11),\n",
              "       (b'Derick',  12), (b'Manxman',  12), (b'afloat',  12),\n",
              "       (b'ambergris',  12), (b'arrived',  12), (b'becomes',  12),\n",
              "       (b'bowels',  12), (b'burning',  12), (b'bursting',  12),\n",
              "       (b'calling',  12), (b'capstan',  12), (b'caused',  12),\n",
              "       (b'centuries',  12), (b'clouds',  12), (b'conduct',  12),\n",
              "       (b'connected',  12), (b'conscience',  12), (b'contrary',  12),\n",
              "       (b'contrast',  12), (b'countenanc',  12), (b'descend',  12),\n",
              "       (b'desperate',  12), (b'doubtless',  12), (b'downwards',  12),\n",
              "       (b'drowned',  12), (b'eating',  12), (b'enchanted',  12),\n",
              "       (b'exceeding',  12), (b'external',  12), (b'falling',  12),\n",
              "       (b'family',  12), (b'fearful',  12), (b'fitted',  12),\n",
              "       (b'glancing',  12), (b'greatest',  12), (b'grounds',  12),\n",
              "       (b'happens',  12), (b'hearted',  12), (b'heaved',  12),\n",
              "       (b'horror',  12), (b'howling',  12), (b'insult',  12),\n",
              "       (b'interior',  12), (b'involuntar',  12), (b'islands',  12),\n",
              "       (b'keeping',  12), (b'knowledge',  12), (b'ladder',  12),\n",
              "       (b'landed',  12), (b'lantern',  12), (b'lesson',  12),\n",
              "       (b'letter',  12), (b'loaded',  12), (b'lonely',  12),\n",
              "       (b'malice',  12), (b'meanwhile',  12), (b'moments',  12),\n",
              "       (b'morrow',  12), (b'motions',  12), (b'mountain',  12),\n",
              "       (b'murmured',  12), (b'narrow',  12), (b'nations',  12),\n",
              "       (b'naturally',  12), (b'offered',  12), (b'painted',  12),\n",
              "       (b'please',  12), (b'pocket',  12), (b'prepared',  12),\n",
              "       (b'reaching',  12), (b'resting',  12), (b'scarce',  12),\n",
              "       (b'secure',  12), (b'seeking',  12), (b'settled',  12),\n",
              "       (b'shoulder',  12), (b'sights',  12), (b'solemn',  12),\n",
              "       (b'sounds',  12), (b'strain',  12), (b'stranded',  12),\n",
              "       (b'sweeping',  12), (b'tapering',  12), (b'tossing',  12),\n",
              "       (b'unearthly',  12), (b'unusual',  12), (b'upright',  12),\n",
              "       (b'voyages',  12), (b'watches',  12), (b'winter',  12),\n",
              "       (b'Bunger',  13), (b'London',  13), (b'Nothing',  13),\n",
              "       (b'belonged',  13), (b'breakfast',  13), (b'calmly',  13),\n",
              "       (b'chanced',  13), (b'circles',  13), (b'conceit',  13),\n",
              "       (b'crossed',  13), (b'dangerous',  13), (b'extreme',  13),\n",
              "       (b'fathoms',  13), (b'finger',  13), (b'forming',  13),\n",
              "       (b'gliding',  13), (b'greater',  13), (b'hither',  13),\n",
              "       (b'indirectly',  13), (b'individual',  13), (b'ladies',  13),\n",
              "       (b'latitude',  13), (b'leaned',  13), (b'leaped',  13),\n",
              "       (b'lighted',  13), (b'lively',  13), (b'mankind',  13),\n",
              "       (b'manned',  13), (b'matters',  13), (b'mounted',  13),\n",
              "       (b'moving',  13), (b'naught',  13), (b'partly',  13),\n",
              "       (b'pictures',  13), (b'planted',  13), (b'ponderous',  13),\n",
              "       (b'practical',  13), (b'presently',  13), (b'private',  13),\n",
              "       (b'prophet',  13), (b'pulled',  13), (b'quantity',  13),\n",
              "       (b'readily',  13), (b'remarkable',  13), (b'resolved',  13),\n",
              "       (b'return',  13), (b'roared',  13), (b'seaman',  13),\n",
              "       (b'season',  13), (b'shoulders',  13), (b'silver',  13),\n",
              "       (b'sinking',  13), (b'slightly',  13), (b'sooner',  13),\n",
              "       (b'sounding',  13), (b'spoken',  13), (b'sprang',  13),\n",
              "       (b'square',  13), (b'subsequent',  13), (b'swallowed',  13),\n",
              "       (b'swinging',  13), (b'theirs',  13), (b'tiller',  13),\n",
              "       (b'touched',  13), (b'trowsers',  13), (b'utterly',  13),\n",
              "       (b'volume',  13), (b'wonders',  13), (b'Coffin',  14),\n",
              "       (b'anywhere',  14), (b'behold',  14), (b'buried',  14),\n",
              "       (b'canvas',  14), (b'capture',  14), (b'carved',  14),\n",
              "       (b'character',  14), (b'chased',  14), (b'closely',  14),\n",
              "       (b'considered',  14), (b'continual',  14), (b'continued',  14),\n",
              "       (b'corpse',  14), (b'critical',  14), (b'customary',  14),\n",
              "       (b'darting',  14), (b'declared',  14), (b'deemed',  14),\n",
              "       (b'departed',  14), (b'entered',  14), (b'fingers',  14),\n",
              "       (b'frequently',  14), (b'future',  14), (b'gained',  14),\n",
              "       (b'glided',  14), (b'handle',  14), (b'honest',  14),\n",
              "       (b'horrible',  14), (b'immediatel',  14), (b'immortal',  14),\n",
              "       (b'intent',  14), (b'latter',  14), (b'leaping',  14),\n",
              "       (b'marble',  14), (b'occasional',  14), (b'oceans',  14),\n",
              "       (b'opening',  14), (b'opinion',  14), (b'perceived',  14),\n",
              "       (b'phantom',  14), (b'points',  14), (b'probably',  14),\n",
              "       (b'proceed',  14), (b'returned',  14), (b'silently',  14),\n",
              "       (b'simultaneo',  14), (b'summer',  14), (b'superior',  14),\n",
              "       (b'terrific',  14), (b'tormented',  14), (b'towing',  14),\n",
              "       (b'unseen',  14), (b'whence',  14), (b'whenever',  14),\n",
              "       (b'whereas',  14), (b'wrinkled',  14), (b'Elijah',  15),\n",
              "       (b'German',  15), (b'However',  15), (b'Whether',  15),\n",
              "       (b'afraid',  15), (b'boiling',  15), (b'bucket',  15),\n",
              "       (b'carrying',  15), (b'consider',  15), (b'coward',  15),\n",
              "       (b'cunning',  15), (b'dinner',  15), (b'direction',  15),\n",
              "       (b'disappeare',  15), (b'effect',  15), (b'employed',  15),\n",
              "       (b'endless',  15), (b'events',  15), (b'exceedingl',  15),\n",
              "       (b'exclaimed',  15), (b'flames',  15), (b'frantic',  15),\n",
              "       (b'heaving',  15), (b'helped',  15), (b'history',  15),\n",
              "       (b'horizontal',  15), (b'immense',  15), (b'impossible',  15),\n",
              "       (b'invisible',  15), (b'latitudes',  15), (b'marvellous',  15),\n",
              "       (b'measure',  15), (b'mention',  15), (b'merchant',  15),\n",
              "       (b'monkey',  15), (b'nearer',  15), (b'oarsman',  15),\n",
              "       (b'officer',  15), (b'ourselves',  15), (b'perilous',  15),\n",
              "       (b'position',  15), (b'pulpit',  15), (b'pushed',  15),\n",
              "       (b'remember',  15), (b'rushed',  15), (b'secured',  15),\n",
              "       (b'shadow',  15), (b'shadows',  15), (b'special',  15),\n",
              "       (b'spirit',  15), (b'streets',  15), (b'supposed',  15),\n",
              "       (b'thereby',  15), (b'troubled',  15), (b'utmost',  15),\n",
              "       (b'vapour',  15), (b'violent',  15), (b'watching',  15),\n",
              "       (b'window',  15), (b'working',  15), (b'wrinkles',  15),\n",
              "       (b'Hussey',  16), (b'Meanwhile',  16), (b'actually',  16),\n",
              "       (b'animal',  16), (b'barrels',  16), (b'binnacle',  16),\n",
              "       (b'breaking',  16), (b'careful',  16), (b'carries',  16),\n",
              "       (b'civilized',  16), (b'colour',  16), (b'commander',  16),\n",
              "       (b'corner',  16), (b'crossing',  16), (b'devils',  16),\n",
              "       (b'distinct',  16), (b'double',  16), (b'dragged',  16),\n",
              "       (b'dropping',  16), (b'earthly',  16), (b'encounter',  16),\n",
              "       (b'encountere',  16), (b'fairly',  16), (b'father',  16),\n",
              "       (b'foolish',  16), (b'friends',  16), (b'furnished',  16),\n",
              "       (b'gallant',  16), (b'happened',  16), (b'hitherto',  16),\n",
              "       (b'hunter',  16), (b'knowing',  16), (b'lifted',  16),\n",
              "       (b'locked',  16), (b'madness',  16), (b'mariner',  16),\n",
              "       (b'missing',  16), (b'neither',  16), (b'numerous',  16),\n",
              "       (b'originally',  16), (b'paused',  16), (b'pleasant',  16),\n",
              "       (b'plenty',  16), (b'proved',  16), (b'putting',  16),\n",
              "       (b'respect',  16), (b'scientific',  16), (b'showed',  16),\n",
              "       (b'spermaceti',  16), (b'spouts',  16), (b'starboard',  16),\n",
              "       (b'steward',  16), (b'stricken',  16), (b'stroke',  16),\n",
              "       (b'thinks',  16), (b'thousands',  16), (b'twelve',  16),\n",
              "       (b'unaccounta',  16), (b'uncommon',  16), (b'virtue',  16),\n",
              "       (b'whaler',  16), (b'yonder',  16), (b'affair',  17),\n",
              "       (b'captured',  17), (b'compass',  17), (b'continuall',  17),\n",
              "       (b'doubloon',  17), (b'elephant',  17), (b'heavens',  17),\n",
              "       (b'height',  17), (b'inserted',  17), (b'instantly',  17),\n",
              "       (b'likewise',  17), (b'lowering',  17), (b'meaning',  17),\n",
              "       (b'minute',  17), (b'months',  17), (b'mother',  17),\n",
              "       (b'motion',  17), (b'muttered',  17), (b'mystic',  17),\n",
              "       (b'native',  17), (b'oarsmen',  17), (b'opposite',  17),\n",
              "       (b'previously',  17), (b'rushing',  17), (b'shouted',  17),\n",
              "       (b'silence',  17), (b'tackles',  17), (b'thrust',  17),\n",
              "       (b'tomahawk',  17), (b'trying',  17), (b'understand',  17),\n",
              "       (b'weight',  17), (b'Bedford',  18), (b'Christian',  18),\n",
              "       (b'French',  18), (b'advancing',  18), (b'breath',  18),\n",
              "       (b'cannibal',  18), (b'chains',  18), (b'children',  18),\n",
              "       (b'content',  18), (b'difference',  18), (b'engaged',  18),\n",
              "       (b'evening',  18), (b'example',  18), (b'floated',  18),\n",
              "       (b'follow',  18), (b'forced',  18), (b'golden',  18),\n",
              "       (b'horizon',  18), (b'inside',  18), (b'instance',  18),\n",
              "       (b'intense',  18), (b'interest',  18), (b'longer',  18),\n",
              "       (b'marked',  18), (b'mentioned',  18), (b'merely',  18),\n",
              "       (b'modern',  18), (b'nameless',  18), (b'observed',  18),\n",
              "       (b'period',  18), (b'picture',  18), (b'pieces',  18),\n",
              "       (b'precious',  18), (b'prodigious',  18), (b'quietly',  18),\n",
              "       (b'regularly',  18), (b'revealed',  18), (b'seized',  18),\n",
              "       (b'smoking',  18), (b'sought',  18), (b'squall',  18),\n",
              "       (b'Atlantic',  19), (b'Because',  19), (b'Ishmael',  19),\n",
              "       (b'Meantime',  19), (b'beginning',  19), (b'blacksmith',  19),\n",
              "       (b'captains',  19), (b'chiefly',  19), (b'concluded',  19),\n",
              "       (b'deeper',  19), (b'dignity',  19), (b'eternal',  19),\n",
              "       (b'figure',  19), (b'hanging',  19), (b'hunted',  19),\n",
              "       (b'important',  19), (b'largest',  19), (b'leaves',  19),\n",
              "       (b'ordinary',  19), (b'owners',  19), (b'pointing',  19),\n",
              "       (b'precise',  19), (b'presented',  19), (b'rapidly',  19),\n",
              "       (b'reached',  19), (b'solitary',  19), (b'subject',  19),\n",
              "       (b'swiftly',  19), (b'telling',  19), (b'terrors',  19),\n",
              "       (b'upwards',  19), (b'vicinity',  19), (b'whalers',  19),\n",
              "       (b'England',  20), (b'Gabriel',  20), (b'aboard',  20),\n",
              "       (b'according',  20), (b'attached',  20), (b'besides',  20),\n",
              "       (b'billows',  20), (b'breeze',  20), (b'directly',  20),\n",
              "       (b'everything',  20), (b'former',  20), (b'gentleman',  20),\n",
              "       (b'gigantic',  20), (b'hollow',  20), (b'inches',  20),\n",
              "       (b'lowered',  20), (b'officers',  20), (b'places',  20),\n",
              "       (b'profound',  20), (b'raised',  20), (b'repeated',  20),\n",
              "       (b'separate',  20), (b'sleeping',  20), (b'slightest',  20),\n",
              "       (b'advance',  21), (b'anchor',  21), (b'beheld',  21),\n",
              "       (b'distant',  21), (b'evinced',  21), (b'gunwale',  21),\n",
              "       (b'hailed',  21), (b'invested',  21), (b'magnitude',  21),\n",
              "       (b'minutes',  21), (b'original',  21), (b'passing',  21),\n",
              "       (b'quickly',  21), (b'sitting',  21), (b'terrible',  21),\n",
              "       (b'terror',  21), (b'windlass',  21), (b'Nantuckete',  22),\n",
              "       (b'Radney',  22), (b'answered',  22), (b'centre',  22),\n",
              "       (b'dashed',  22), (b'deadly',  22), (b'descried',  22),\n",
              "       (b'filled',  22), (b'formed',  22), (b'gazing',  22),\n",
              "       (b'jacket',  22), (b'pulling',  22), (b'scuttle',  22),\n",
              "       (b'seventy',  22), (b'shipmates',  22), (b'windward',  22),\n",
              "       (b'wonderful',  22), (b'yellow',  22), (b'answer',  23),\n",
              "       (b'beyond',  23), (b'chapter',  23), (b'commanded',  23),\n",
              "       (b'during',  23), (b'finally',  23), (b'following',  23),\n",
              "       (b'headed',  23), (b'hidden',  23), (b'higher',  23),\n",
              "       (b'honour',  23), (b'instead',  23), (b'lances',  23),\n",
              "       (b'master',  23), (b'neverthele',  23), (b'regarded',  23),\n",
              "       (b'remain',  23), (b'somewhere',  23), (b'speaking',  23),\n",
              "       (b'strength',  23), (b'striking',  23), (b'thunder',  23),\n",
              "       (b'Lakeman',  24), (b'afterwards',  24), (b'became',  24),\n",
              "       (b'bright',  24), (b'circle',  24), (b'different',  24),\n",
              "       (b'escape',  24), (b'exactly',  24), (b'floating',  24),\n",
              "       (b'midnight',  24), (b'orders',  24), (b'perils',  24),\n",
              "       (b'pursuit',  24), (b'regular',  24), (b'remains',  24),\n",
              "       (b'secret',  24), (b'seldom',  24), (b'spread',  24),\n",
              "       (b'thyself',  24), (b'watery',  24), (b'bearing',  25),\n",
              "       (b'believe',  25), (b'complete',  25), (b'country',  25),\n",
              "       (b'cruising',  25), (b'friend',  25), (b'hinted',  25),\n",
              "       (b'interval',  25), (b'leaning',  25), (b'learned',  25),\n",
              "       (b'number',  25), (b'silent',  25), (b'similar',  25),\n",
              "       (b'steady',  25), (b'supper',  25), (b'thinking',  25),\n",
              "       (b'thrown',  25), (b'bodily',  26), (b'circumstan',  26),\n",
              "       (b'circumstan',  26), (b'considerab',  26), (b'degree',  26),\n",
              "       (b'enormous',  26), (b'followed',  26), (b'getting',  26),\n",
              "       (b'giving',  26), (b'lightning',  26), (b'otherwise',  26),\n",
              "       (b'received',  26), (b'seated',  26), (b'started',  26),\n",
              "       (b'thirty',  26), (b'vessels',  26), (b'whiteness',  26),\n",
              "       (b'wooden',  26), (b'yourself',  26), (b'Fedallah',  27),\n",
              "       (b'Neverthele',  27), (b'alongside',  27), (b'certainly',  27),\n",
              "       (b'dropped',  27), (b'eyeing',  27), (b'island',  27),\n",
              "       (b'landlord',  27), (b'overboard',  27), (b'precisely',  27),\n",
              "       (b'sideways',  27), (b'somewhat',  27), (b'suspended',  27),\n",
              "       (b'wholly',  27), (b'Parsee',  28), (b'already',  28),\n",
              "       (b'ancient',  28), (b'astern',  28), (b'become',  28),\n",
              "       (b'command',  28), (b'considerin',  28), (b'feeling',  28),\n",
              "       (b'fishermen',  28), (b'glance',  28), (b'hunters',  28),\n",
              "       (b'leeward',  28), (b'person',  28), (b'pretty',  28),\n",
              "       (b'seeing',  28), (b'spring',  28), (b'strike',  28),\n",
              "       (b'Whales',  29), (b'altogether',  29), (b'battle',  29),\n",
              "       (b'entirely',  29), (b'flying',  29), (b'hearts',  29),\n",
              "       (b'mariners',  29), (b'pointed',  29), (b'possibly',  29),\n",
              "       (b'question',  29), (b'rising',  29), (b'stands',  29),\n",
              "       (b'strangely',  29), (b'swimming',  29), (b'unless',  29),\n",
              "       (b'Besides',  30), (b'carried',  30), (b'generally',  30),\n",
              "       (b'hammer',  30), (b'harpoons',  30), (b'hoisted',  30),\n",
              "       (b'instances',  30), (b'possible',  30), (b'really',  30),\n",
              "       (b'across',  31), (b'darkness',  31), (b'except',  31),\n",
              "       (b'hardly',  31), (b'leviathan',  31), (b'natural',  31),\n",
              "       (b'planks',  31), (b'species',  31), (b'substance',  31),\n",
              "       (b'tossed',  31), (b'Pacific',  32), (b'SAILOR',  32),\n",
              "       (b'account',  32), (b'drawing',  32), (b'intervals',  32),\n",
              "       (b'passage',  32), (b'proper',  32), (b'visible',  32),\n",
              "       (b'ashore',  33), (b'company',  33), (b'completely',  33),\n",
              "       (b'hammock',  33), (b'killed',  33), (b'nearly',  33),\n",
              "       (b'rigging',  33), (b'sailing',  33), (b'skeleton',  33),\n",
              "       (b'twenty',  33), (b'American',  34), (b'Daggoo',  34),\n",
              "       (b'blubber',  34), (b'creatures',  34), (b'forecastle',  34),\n",
              "       (b'holding',  34), (b'nature',  34), (b'previous',  34),\n",
              "       (b'remained',  34), (b'strong',  34), (b'thoughts',  34),\n",
              "       (b'wonder',  34), (b'Greenland',  35), (b'cutting',  35),\n",
              "       (b'famous',  35), (b'middle',  35), (b'rolling',  35),\n",
              "       (b'suppose',  35), (b'weather',  35), (b'around',  36),\n",
              "       (b'aspect',  36), (b'bulwarks',  36), (b'coffin',  36),\n",
              "       (b'flukes',  36), (b'placed',  36), (b'unknown',  36),\n",
              "       (b'various',  36), (b'forehead',  37), (b'gentlemen',  37),\n",
              "       (b'manner',  37), (b'others',  37), (b'brought',  38),\n",
              "       (b'concerning',  38), (b'darted',  38), (b'leaving',  38),\n",
              "       (b'sailed',  38), (b'carpenter',  39), (b'distance',  39),\n",
              "       (b'either',  39), (b'mortal',  39), (b'object',  39),\n",
              "       (b'plainly',  39), (b'purpose',  39), (b'single',  39),\n",
              "       (b'Steelkilt',  40), (b'heaven',  40), (b'saying',  40),\n",
              "       (b'anything',  41), (b'course',  41), (b'passed',  41),\n",
              "       (b'wondrous',  41), (b'creature',  42), (b'people',  42),\n",
              "       (b'sudden',  42), (b'surface',  42), (b'rolled',  43),\n",
              "       (b'seamen',  43), (b'somehow',  43), (b'caught',  44),\n",
              "       (b'especially',  44), (b'quarter',  44), (b'running',  44),\n",
              "       (b'whaleman',  44), (b'whatever',  44), (b'making',  45),\n",
              "       (b'suddenly',  45), (b'touching',  45), (b'English',  46),\n",
              "       (b'chance',  46), (b'several',  46), (b'straight',  46),\n",
              "       (b'mighty',  47), (b'slowly',  47), (b'struck',  47),\n",
              "       (b'common',  48), (b'forward',  48), (b'stranger',  48),\n",
              "       (b'Though',  49), (b'ground',  49), (b'monster',  49),\n",
              "       (b'particular',  49), (b'sailor',  49), (b'behind',  50),\n",
              "       (b'broken',  50), (b'coming',  50), (b'hundred',  50),\n",
              "       (b'sailors',  50), (b'sharks',  50), (b'taking',  50),\n",
              "       (b'thousand',  51), (b'bottom',  52), (b'turning',  52),\n",
              "       (b'curious',  53), (b'fellow',  53), (b'Tashtego',  54),\n",
              "       (b'fishery',  54), (b'savage',  54), (b'second',  54),\n",
              "       (b'vessel',  54), (b'entire',  55), (b'harpooneer',  55),\n",
              "       (b'peculiar',  56), (b'therefore',  56), (b'Indian',  57),\n",
              "       (b'further',  59), (b'themselves',  59), (b'better',  60),\n",
              "       (b'having',  62), (b'Leviathan',  64), (b'looked',  64),\n",
              "       (b'reason',  64), (b'together',  64), (b'general',  65),\n",
              "       (b'turned',  66), (b'business',  67), (b'looking',  68),\n",
              "       (b'morning',  68), (b'myself',  68), (b'rather',  68),\n",
              "       (b'cannot',  69), (b'waters',  69), (b'whalemen',  71),\n",
              "       (b'because',  73), (b'living',  73), (b'standing',  73),\n",
              "       (b'beneath',  74), (b'enough',  74), (b'Bildad',  76),\n",
              "       (b'harpoon',  76), (b'whether',  76), (b'harpooneer',  77),\n",
              "       (b'instant',  77), (b'length',  78), (b'within',  78),\n",
              "       (b'always',  80), (b'however',  80), (b'present',  80),\n",
              "       (b'sometimes',  81), (b'indeed',  82), (b'perhaps',  82),\n",
              "       (b'itself',  84), (b'Nantucket',  85), (b'matter',  86),\n",
              "       (b'certain',  87), (b'voyage',  93), (b'strange',  96),\n",
              "       (b'nothing', 102), (b'moment', 105), (b'another', 106),\n",
              "       (b'towards', 107), (b'captain', 112), (b'called', 116),\n",
              "       (b'whaling', 116), (b'between', 117), (b'something', 119),\n",
              "       (b'against', 132), (b'things', 132), (b'thought', 149),\n",
              "       (b'CHAPTER', 150), (b'without', 154), (b'Pequod', 172),\n",
              "       (b'should', 181), (b'almost', 186), (b'Starbuck', 196),\n",
              "       (b'himself', 203), (b'Captain', 215), (b'through', 227),\n",
              "       (b'whales', 237), (b'little', 247), (b'Queequeg', 252),\n",
              "       (b'seemed', 283), (b'before', 293), (b'though', 335)],\n",
              "      dtype=[('word', 'S10'), ('frecuencia', '<i8')])"
            ]
          },
          "metadata": {},
          "execution_count": 17
        }
      ]
    },
    {
      "cell_type": "markdown",
      "source": [
        "## VISUALIZACIÓN SOBRE EL OBJETO NUMPY CREADO"
      ],
      "metadata": {
        "id": "vHok_ylwYou4"
      }
    },
    {
      "cell_type": "code",
      "source": [
        "top_words = 20\n",
        "x= np.arange(len(palabras_interesantes[-top_words:]))\n",
        "y= [freq[1] for freq in palabras_interesantes[-top_words:]]\n",
        "plt.figure(figsize=(10,5))\n",
        "plt.plot(x,y)\n",
        "plt.xticks(x, [str(freq[0]) for freq in palabras_interesantes[-top_words:]], rotation= 'vertical')\n",
        "plt.grid(True)\n",
        "plt.show()"
      ],
      "metadata": {
        "colab": {
          "base_uri": "https://localhost:8080/",
          "height": 521
        },
        "id": "4cZUBUmzYsqY",
        "outputId": "397288bf-e1b8-4aac-af2c-faedc176b13a"
      },
      "execution_count": null,
      "outputs": [
        {
          "output_type": "display_data",
          "data": {
            "text/plain": [
              "<Figure size 1000x500 with 1 Axes>"
            ],
            "image/png": "[encoded data removed]"
          },
          "metadata": {}
        }
      ]
    }
  ]
}